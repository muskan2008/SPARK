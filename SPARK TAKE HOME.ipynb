{
 "cells": [
  {
   "cell_type": "code",
   "execution_count": 1,
   "id": "damaged-protein",
   "metadata": {},
   "outputs": [],
   "source": [
    "import findspark\n",
    "findspark.init()"
   ]
  },
  {
   "cell_type": "code",
   "execution_count": 2,
   "id": "completed-edgar",
   "metadata": {},
   "outputs": [
    {
     "data": {
      "text/plain": [
       "'C:\\\\spark-3.1.1-bin-hadoop2.7'"
      ]
     },
     "execution_count": 2,
     "metadata": {},
     "output_type": "execute_result"
    }
   ],
   "source": [
    "findspark.find()\n",
    "import pyspark\n",
    "findspark.find()"
   ]
  },
  {
   "cell_type": "code",
   "execution_count": 3,
   "id": "falling-earthquake",
   "metadata": {},
   "outputs": [],
   "source": [
    "from pyspark import SparkContext, SparkConf\n",
    "from pyspark.sql import SparkSession\n",
    "conf = pyspark.SparkConf().setAppName('appName').setMaster('local')\n",
    "sc = pyspark.SparkContext(conf=conf)\n",
    "spark = SparkSession(sc)"
   ]
  },
  {
   "cell_type": "code",
   "execution_count": 4,
   "id": "instrumental-trust",
   "metadata": {},
   "outputs": [],
   "source": [
    "from pyspark.sql import Window\n",
    "from pyspark.sql import functions as func\n",
    "from pyspark.sql import SQLContext"
   ]
  },
  {
   "cell_type": "code",
   "execution_count": 5,
   "id": "introductory-serve",
   "metadata": {},
   "outputs": [],
   "source": [
    "sc = SparkContext.getOrCreate()\n",
    "sqlContext = SQLContext(sc)"
   ]
  },
  {
   "cell_type": "code",
   "execution_count": 67,
   "id": "similar-auckland",
   "metadata": {},
   "outputs": [],
   "source": [
    "df = sqlContext.read.csv(\"AppleStore.csv\", header=True)"
   ]
  },
  {
   "cell_type": "code",
   "execution_count": 7,
   "id": "tight-nowhere",
   "metadata": {},
   "outputs": [
    {
     "name": "stdout",
     "output_type": "stream",
     "text": [
      "+---------+--------------------+----------+--------+-----+----------------+----------------+-----------+---------------+-------+-----------+-----------------+---------------+---------------+--------+-------+\n",
      "|       id|            app_name|size_bytes|currency|price|rating_count_tot|rating_count_ver|user_rating|user_rating_ver|    ver|cont_rating|      prime_genre|sup_devices.num|ipadSc_urls.num|lang.num|vpp_lic|\n",
      "+---------+--------------------+----------+--------+-----+----------------+----------------+-----------+---------------+-------+-----------+-----------------+---------------+---------------+--------+-------+\n",
      "|281656475|     PAC-MAN Premium| 100788224|     USD| 3.99|           21292|              26|          4|            4.5|  6.3.5|         4+|            Games|             38|              5|      10|      1|\n",
      "|281796108|Evernote - stay o...| 158578688|     USD|    0|          161065|              26|          4|            3.5|  8.2.2|         4+|     Productivity|             37|              5|      23|      1|\n",
      "|281940292|WeatherBug - Loca...| 100524032|     USD|    0|          188583|            2822|        3.5|            4.5|  5.0.0|         4+|          Weather|             37|              5|       3|      1|\n",
      "|282614216|eBay: Best App to...| 128512000|     USD|    0|          262241|             649|          4|            4.5| 5.10.0|        12+|         Shopping|             37|              5|       9|      1|\n",
      "|282935706|               Bible|  92774400|     USD|    0|          985920|            5320|        4.5|              5|  7.5.1|         4+|        Reference|             37|              5|      45|      1|\n",
      "|283619399|    Shanghai Mahjong|  10485713|     USD| 0.99|            8253|            5516|          4|              4|    1.8|         4+|            Games|             47|              5|       1|      1|\n",
      "|283646709|PayPal - Send and...| 227795968|     USD|    0|          119487|             879|          4|            4.5| 6.12.0|         4+|          Finance|             37|              0|      19|      1|\n",
      "|284035177|Pandora - Music &...| 130242560|     USD|    0|         1126879|            3594|          4|            4.5|  8.4.1|        12+|            Music|             37|              4|       1|      1|\n",
      "|284666222|PCalc - The Best ...|  49250304|     USD| 9.99|            1117|               4|        4.5|              5|  3.6.6|         4+|        Utilities|             37|              5|       1|      1|\n",
      "|284736660|         Ms. PAC-MAN|  70023168|     USD| 3.99|            7885|              40|          4|              4|  4.0.4|         4+|            Games|             38|              0|      10|      1|\n",
      "|284791396|Solitaire by Mobi...|  49618944|     USD| 4.99|           76720|            4017|        4.5|            4.5| 4.10.1|         4+|            Games|             38|              4|      11|      1|\n",
      "|284815117|    SCRABBLE Premium| 227547136|     USD| 7.99|          105776|             166|        3.5|            2.5| 5.19.0|         4+|            Games|             37|              0|       6|      1|\n",
      "|284815942|Google – Search m...| 179979264|     USD|    0|          479440|             203|        3.5|              4|     27|        17+|        Utilities|             37|              4|      33|      1|\n",
      "|284847138|Bank of America -...| 160925696|     USD|    0|          119773|            2336|        3.5|            4.5|  7.3.8|         4+|          Finance|             37|              0|       2|      1|\n",
      "|284862767|            FreeCell|  55153664|     USD| 4.99|            6340|             668|        4.5|            4.5|  4.0.3|         4+|            Games|             38|              5|       2|      1|\n",
      "|284876795|TripAdvisor Hotel...| 207907840|     USD|    0|           56194|              87|          4|            3.5|   21.1|         4+|           Travel|             37|              1|      26|      1|\n",
      "|284882215|            Facebook| 389879808|     USD|    0|         2974676|             212|        3.5|            3.5|     95|         4+|Social Networking|             37|              1|      29|      1|\n",
      "|284910350|Yelp - Nearby Res...| 167407616|     USD|    0|          223885|            3726|          4|            4.5|11.15.0|        12+|           Travel|             37|              5|      18|      1|\n",
      "|284993459|Shazam - Discover...| 147093504|     USD|    0|          402925|             136|          4|            4.5| 11.0.3|        12+|            Music|             37|              3|      16|      1|\n",
      "|285005463|Crash Bandicoot N...|  10735026|     USD| 2.99|           31456|            4178|          4|            3.5|  1.0.0|         4+|            Games|             47|              0|       1|      1|\n",
      "+---------+--------------------+----------+--------+-----+----------------+----------------+-----------+---------------+-------+-----------+-----------------+---------------+---------------+--------+-------+\n",
      "only showing top 20 rows\n",
      "\n"
     ]
    }
   ],
   "source": [
    "df.show()"
   ]
  },
  {
   "cell_type": "code",
   "execution_count": 17,
   "id": "naval-moses",
   "metadata": {},
   "outputs": [
    {
     "name": "stdout",
     "output_type": "stream",
     "text": [
      "root\n",
      " |-- id: string (nullable = true)\n",
      " |-- app_name: string (nullable = true)\n",
      " |-- size_bytes: string (nullable = true)\n",
      " |-- currency: string (nullable = true)\n",
      " |-- price: string (nullable = true)\n",
      " |-- rating_count_tot: string (nullable = true)\n",
      " |-- rating_count_ver: string (nullable = true)\n",
      " |-- user_rating: string (nullable = true)\n",
      " |-- user_rating_ver: string (nullable = true)\n",
      " |-- ver: string (nullable = true)\n",
      " |-- cont_rating: string (nullable = true)\n",
      " |-- prime_genre: string (nullable = true)\n",
      " |-- sup_devices.num: string (nullable = true)\n",
      " |-- ipadSc_urls.num: string (nullable = true)\n",
      " |-- lang.num: string (nullable = true)\n",
      " |-- vpp_lic: string (nullable = true)\n",
      "\n"
     ]
    }
   ],
   "source": [
    "df.printSchema()"
   ]
  },
  {
   "cell_type": "code",
   "execution_count": 11,
   "id": "mature-appliance",
   "metadata": {},
   "outputs": [
    {
     "data": {
      "text/plain": [
       "['id',\n",
       " 'app_name',\n",
       " 'size_bytes',\n",
       " 'currency',\n",
       " 'price',\n",
       " 'rating_count_tot',\n",
       " 'rating_count_ver',\n",
       " 'user_rating',\n",
       " 'user_rating_ver',\n",
       " 'ver',\n",
       " 'cont_rating',\n",
       " 'prime_genre',\n",
       " 'sup_devices.num',\n",
       " 'ipadSc_urls.num',\n",
       " 'lang.num',\n",
       " 'vpp_lic']"
      ]
     },
     "execution_count": 11,
     "metadata": {},
     "output_type": "execute_result"
    }
   ],
   "source": [
    "df.columns"
   ]
  },
  {
   "cell_type": "code",
   "execution_count": 40,
   "id": "foreign-myanmar",
   "metadata": {},
   "outputs": [],
   "source": [
    "import pyspark\n",
    "from pyspark.sql import SparkSession\n",
    "from pyspark.sql.functions import col\n",
    "\n"
   ]
  },
  {
   "cell_type": "code",
   "execution_count": 37,
   "id": "impaired-defendant",
   "metadata": {},
   "outputs": [
    {
     "name": "stdout",
     "output_type": "stream",
     "text": [
      "root\n",
      " |-- id: string (nullable = true)\n",
      " |-- app_name: string (nullable = true)\n",
      " |-- size_bytes: string (nullable = true)\n",
      " |-- currency: string (nullable = true)\n",
      " |-- price: string (nullable = true)\n",
      " |-- rating_count_tot: string (nullable = true)\n",
      " |-- rating_count_ver: string (nullable = true)\n",
      " |-- user_rating: string (nullable = true)\n",
      " |-- user_rating_ver: string (nullable = true)\n",
      " |-- ver: string (nullable = true)\n",
      " |-- cont_rating: string (nullable = true)\n",
      " |-- prime_genre: string (nullable = true)\n",
      " |-- sup_devices.num: string (nullable = true)\n",
      " |-- ipadSc_urls.num: string (nullable = true)\n",
      " |-- lang.num: string (nullable = true)\n",
      " |-- vpp_lic: string (nullable = true)\n",
      " |-- AppSizeMb's: double (nullable = true)\n",
      "\n"
     ]
    }
   ],
   "source": [
    "df4 = df.withColumn(\"AppSizeMb's\",col(\"size_bytes\")* 0.000001)\n",
    "df4.printSchema()"
   ]
  },
  {
   "cell_type": "code",
   "execution_count": 39,
   "id": "above-disorder",
   "metadata": {},
   "outputs": [
    {
     "data": {
      "text/plain": [
       "Row(id='281656475', app_name='PAC-MAN Premium', size_bytes='100788224', currency='USD', price='3.99', rating_count_tot='21292', rating_count_ver='26', user_rating='4', user_rating_ver='4.5', ver='6.3.5', cont_rating='4+', prime_genre='Games', sup_devices.num='38', ipadSc_urls.num='5', lang.num='10', vpp_lic='1', AppSizeMb's=100.788224)"
      ]
     },
     "execution_count": 39,
     "metadata": {},
     "output_type": "execute_result"
    }
   ],
   "source": [
    "df4.head()"
   ]
  },
  {
   "cell_type": "code",
   "execution_count": 68,
   "id": "swiss-estimate",
   "metadata": {},
   "outputs": [],
   "source": [
    "from pyspark.sql import SparkSession   \n",
    "spark = SparkSession.builder.getOrCreate()  \n"
   ]
  },
  {
   "cell_type": "code",
   "execution_count": 78,
   "id": "variable-mirror",
   "metadata": {},
   "outputs": [],
   "source": [
    "df.createOrReplaceTempView(\"apple\") "
   ]
  },
  {
   "cell_type": "code",
   "execution_count": 70,
   "id": "french-potato",
   "metadata": {},
   "outputs": [
    {
     "data": {
      "text/html": [
       "<div>\n",
       "<style scoped>\n",
       "    .dataframe tbody tr th:only-of-type {\n",
       "        vertical-align: middle;\n",
       "    }\n",
       "\n",
       "    .dataframe tbody tr th {\n",
       "        vertical-align: top;\n",
       "    }\n",
       "\n",
       "    .dataframe thead th {\n",
       "        text-align: right;\n",
       "    }\n",
       "</style>\n",
       "<table border=\"1\" class=\"dataframe\">\n",
       "  <thead>\n",
       "    <tr style=\"text-align: right;\">\n",
       "      <th></th>\n",
       "      <th>id</th>\n",
       "      <th>app_name</th>\n",
       "      <th>size_bytes</th>\n",
       "      <th>currency</th>\n",
       "      <th>price</th>\n",
       "      <th>rating_count_tot</th>\n",
       "      <th>rating_count_ver</th>\n",
       "      <th>user_rating</th>\n",
       "      <th>user_rating_ver</th>\n",
       "      <th>ver</th>\n",
       "      <th>cont_rating</th>\n",
       "      <th>prime_genre</th>\n",
       "      <th>sup_devices.num</th>\n",
       "      <th>ipadSc_urls.num</th>\n",
       "      <th>lang.num</th>\n",
       "      <th>vpp_lic</th>\n",
       "    </tr>\n",
       "  </thead>\n",
       "  <tbody>\n",
       "    <tr>\n",
       "      <th>0</th>\n",
       "      <td>281656475</td>\n",
       "      <td>PAC-MAN Premium</td>\n",
       "      <td>100788224</td>\n",
       "      <td>USD</td>\n",
       "      <td>3.99</td>\n",
       "      <td>21292</td>\n",
       "      <td>26</td>\n",
       "      <td>4</td>\n",
       "      <td>4.5</td>\n",
       "      <td>6.3.5</td>\n",
       "      <td>4+</td>\n",
       "      <td>Games</td>\n",
       "      <td>38</td>\n",
       "      <td>5</td>\n",
       "      <td>10</td>\n",
       "      <td>1</td>\n",
       "    </tr>\n",
       "    <tr>\n",
       "      <th>1</th>\n",
       "      <td>281796108</td>\n",
       "      <td>Evernote - stay organized</td>\n",
       "      <td>158578688</td>\n",
       "      <td>USD</td>\n",
       "      <td>0</td>\n",
       "      <td>161065</td>\n",
       "      <td>26</td>\n",
       "      <td>4</td>\n",
       "      <td>3.5</td>\n",
       "      <td>8.2.2</td>\n",
       "      <td>4+</td>\n",
       "      <td>Productivity</td>\n",
       "      <td>37</td>\n",
       "      <td>5</td>\n",
       "      <td>23</td>\n",
       "      <td>1</td>\n",
       "    </tr>\n",
       "    <tr>\n",
       "      <th>2</th>\n",
       "      <td>281940292</td>\n",
       "      <td>WeatherBug - Local Weather, Radar, Maps, Alerts</td>\n",
       "      <td>100524032</td>\n",
       "      <td>USD</td>\n",
       "      <td>0</td>\n",
       "      <td>188583</td>\n",
       "      <td>2822</td>\n",
       "      <td>3.5</td>\n",
       "      <td>4.5</td>\n",
       "      <td>5.0.0</td>\n",
       "      <td>4+</td>\n",
       "      <td>Weather</td>\n",
       "      <td>37</td>\n",
       "      <td>5</td>\n",
       "      <td>3</td>\n",
       "      <td>1</td>\n",
       "    </tr>\n",
       "    <tr>\n",
       "      <th>3</th>\n",
       "      <td>282614216</td>\n",
       "      <td>eBay: Best App to Buy, Sell, Save! Online Shop...</td>\n",
       "      <td>128512000</td>\n",
       "      <td>USD</td>\n",
       "      <td>0</td>\n",
       "      <td>262241</td>\n",
       "      <td>649</td>\n",
       "      <td>4</td>\n",
       "      <td>4.5</td>\n",
       "      <td>5.10.0</td>\n",
       "      <td>12+</td>\n",
       "      <td>Shopping</td>\n",
       "      <td>37</td>\n",
       "      <td>5</td>\n",
       "      <td>9</td>\n",
       "      <td>1</td>\n",
       "    </tr>\n",
       "    <tr>\n",
       "      <th>4</th>\n",
       "      <td>282935706</td>\n",
       "      <td>Bible</td>\n",
       "      <td>92774400</td>\n",
       "      <td>USD</td>\n",
       "      <td>0</td>\n",
       "      <td>985920</td>\n",
       "      <td>5320</td>\n",
       "      <td>4.5</td>\n",
       "      <td>5</td>\n",
       "      <td>7.5.1</td>\n",
       "      <td>4+</td>\n",
       "      <td>Reference</td>\n",
       "      <td>37</td>\n",
       "      <td>5</td>\n",
       "      <td>45</td>\n",
       "      <td>1</td>\n",
       "    </tr>\n",
       "    <tr>\n",
       "      <th>...</th>\n",
       "      <td>...</td>\n",
       "      <td>...</td>\n",
       "      <td>...</td>\n",
       "      <td>...</td>\n",
       "      <td>...</td>\n",
       "      <td>...</td>\n",
       "      <td>...</td>\n",
       "      <td>...</td>\n",
       "      <td>...</td>\n",
       "      <td>...</td>\n",
       "      <td>...</td>\n",
       "      <td>...</td>\n",
       "      <td>...</td>\n",
       "      <td>...</td>\n",
       "      <td>...</td>\n",
       "      <td>...</td>\n",
       "    </tr>\n",
       "    <tr>\n",
       "      <th>7192</th>\n",
       "      <td>1187617475</td>\n",
       "      <td>Kubik</td>\n",
       "      <td>126644224</td>\n",
       "      <td>USD</td>\n",
       "      <td>0</td>\n",
       "      <td>142</td>\n",
       "      <td>75</td>\n",
       "      <td>4.5</td>\n",
       "      <td>4.5</td>\n",
       "      <td>1.3</td>\n",
       "      <td>4+</td>\n",
       "      <td>Games</td>\n",
       "      <td>38</td>\n",
       "      <td>5</td>\n",
       "      <td>1</td>\n",
       "      <td>1</td>\n",
       "    </tr>\n",
       "    <tr>\n",
       "      <th>7193</th>\n",
       "      <td>1187682390</td>\n",
       "      <td>VR Roller-Coaster</td>\n",
       "      <td>120760320</td>\n",
       "      <td>USD</td>\n",
       "      <td>0</td>\n",
       "      <td>30</td>\n",
       "      <td>30</td>\n",
       "      <td>4.5</td>\n",
       "      <td>4.5</td>\n",
       "      <td>0.9</td>\n",
       "      <td>4+</td>\n",
       "      <td>Games</td>\n",
       "      <td>38</td>\n",
       "      <td>0</td>\n",
       "      <td>1</td>\n",
       "      <td>1</td>\n",
       "    </tr>\n",
       "    <tr>\n",
       "      <th>7194</th>\n",
       "      <td>1187779532</td>\n",
       "      <td>Bret Michaels Emojis + Lyric Keyboard</td>\n",
       "      <td>111322112</td>\n",
       "      <td>USD</td>\n",
       "      <td>1.99</td>\n",
       "      <td>15</td>\n",
       "      <td>0</td>\n",
       "      <td>4.5</td>\n",
       "      <td>0</td>\n",
       "      <td>1.0.2</td>\n",
       "      <td>9+</td>\n",
       "      <td>Utilities</td>\n",
       "      <td>37</td>\n",
       "      <td>1</td>\n",
       "      <td>1</td>\n",
       "      <td>1</td>\n",
       "    </tr>\n",
       "    <tr>\n",
       "      <th>7195</th>\n",
       "      <td>1187838770</td>\n",
       "      <td>VR Roller Coaster World - Virtual Reality</td>\n",
       "      <td>97235968</td>\n",
       "      <td>USD</td>\n",
       "      <td>0</td>\n",
       "      <td>85</td>\n",
       "      <td>32</td>\n",
       "      <td>4.5</td>\n",
       "      <td>4.5</td>\n",
       "      <td>1.0.15</td>\n",
       "      <td>12+</td>\n",
       "      <td>Games</td>\n",
       "      <td>38</td>\n",
       "      <td>0</td>\n",
       "      <td>2</td>\n",
       "      <td>1</td>\n",
       "    </tr>\n",
       "    <tr>\n",
       "      <th>7196</th>\n",
       "      <td>1188375727</td>\n",
       "      <td>Escape the Sweet Shop Series</td>\n",
       "      <td>90898432</td>\n",
       "      <td>USD</td>\n",
       "      <td>0</td>\n",
       "      <td>3</td>\n",
       "      <td>3</td>\n",
       "      <td>5</td>\n",
       "      <td>5</td>\n",
       "      <td>1</td>\n",
       "      <td>4+</td>\n",
       "      <td>Games</td>\n",
       "      <td>40</td>\n",
       "      <td>0</td>\n",
       "      <td>2</td>\n",
       "      <td>1</td>\n",
       "    </tr>\n",
       "  </tbody>\n",
       "</table>\n",
       "<p>7197 rows × 16 columns</p>\n",
       "</div>"
      ],
      "text/plain": [
       "              id                                           app_name  \\\n",
       "0      281656475                                    PAC-MAN Premium   \n",
       "1      281796108                          Evernote - stay organized   \n",
       "2      281940292    WeatherBug - Local Weather, Radar, Maps, Alerts   \n",
       "3      282614216  eBay: Best App to Buy, Sell, Save! Online Shop...   \n",
       "4      282935706                                              Bible   \n",
       "...          ...                                                ...   \n",
       "7192  1187617475                                              Kubik   \n",
       "7193  1187682390                                  VR Roller-Coaster   \n",
       "7194  1187779532              Bret Michaels Emojis + Lyric Keyboard   \n",
       "7195  1187838770          VR Roller Coaster World - Virtual Reality   \n",
       "7196  1188375727                       Escape the Sweet Shop Series   \n",
       "\n",
       "     size_bytes currency price rating_count_tot rating_count_ver user_rating  \\\n",
       "0     100788224      USD  3.99            21292               26           4   \n",
       "1     158578688      USD     0           161065               26           4   \n",
       "2     100524032      USD     0           188583             2822         3.5   \n",
       "3     128512000      USD     0           262241              649           4   \n",
       "4      92774400      USD     0           985920             5320         4.5   \n",
       "...         ...      ...   ...              ...              ...         ...   \n",
       "7192  126644224      USD     0              142               75         4.5   \n",
       "7193  120760320      USD     0               30               30         4.5   \n",
       "7194  111322112      USD  1.99               15                0         4.5   \n",
       "7195   97235968      USD     0               85               32         4.5   \n",
       "7196   90898432      USD     0                3                3           5   \n",
       "\n",
       "     user_rating_ver     ver cont_rating   prime_genre sup_devices.num  \\\n",
       "0                4.5   6.3.5          4+         Games              38   \n",
       "1                3.5   8.2.2          4+  Productivity              37   \n",
       "2                4.5   5.0.0          4+       Weather              37   \n",
       "3                4.5  5.10.0         12+      Shopping              37   \n",
       "4                  5   7.5.1          4+     Reference              37   \n",
       "...              ...     ...         ...           ...             ...   \n",
       "7192             4.5     1.3          4+         Games              38   \n",
       "7193             4.5     0.9          4+         Games              38   \n",
       "7194               0   1.0.2          9+     Utilities              37   \n",
       "7195             4.5  1.0.15         12+         Games              38   \n",
       "7196               5       1          4+         Games              40   \n",
       "\n",
       "     ipadSc_urls.num lang.num vpp_lic  \n",
       "0                  5       10       1  \n",
       "1                  5       23       1  \n",
       "2                  5        3       1  \n",
       "3                  5        9       1  \n",
       "4                  5       45       1  \n",
       "...              ...      ...     ...  \n",
       "7192               5        1       1  \n",
       "7193               0        1       1  \n",
       "7194               1        1       1  \n",
       "7195               0        2       1  \n",
       "7196               0        2       1  \n",
       "\n",
       "[7197 rows x 16 columns]"
      ]
     },
     "execution_count": 70,
     "metadata": {},
     "output_type": "execute_result"
    }
   ],
   "source": [
    "df.toPandas()"
   ]
  },
  {
   "cell_type": "code",
   "execution_count": 57,
   "id": "recorded-shirt",
   "metadata": {},
   "outputs": [
    {
     "name": "stdout",
     "output_type": "stream",
     "text": [
      "+--------------------+------------+\n",
      "|            app_name|Total_rating|\n",
      "+--------------------+------------+\n",
      "|            Facebook|   2974676.0|\n",
      "|           Instagram|   2161558.0|\n",
      "|      Clash of Clans|   2130805.0|\n",
      "|          Temple Run|   1724546.0|\n",
      "|Pandora - Music &...|   1126879.0|\n",
      "|           Pinterest|   1061624.0|\n",
      "|               Bible|    985920.0|\n",
      "|    Candy Crush Saga|    961794.0|\n",
      "|       Spotify Music|    878563.0|\n",
      "|         Angry Birds|    824451.0|\n",
      "|      Subway Surfers|    706110.0|\n",
      "| Fruit Ninja Classic|    698516.0|\n",
      "|           Solitaire|    679055.0|\n",
      "|          CSR Racing|    677247.0|\n",
      "|Crossy Road - End...|    669079.0|\n",
      "|Injustice: Gods A...|    612532.0|\n",
      "|             Hay Day|    567344.0|\n",
      "|  Clear Vision (17+)|    541693.0|\n",
      "|Minecraft: Pocket...|    522012.0|\n",
      "|             PAC-MAN|    508808.0|\n",
      "+--------------------+------------+\n",
      "only showing top 20 rows\n",
      "\n"
     ]
    }
   ],
   "source": [
    "spark.sql(\"select app_name,SUM(rating_count_tot) as Total_rating from apple group by app_name order by SUM(rating_count_tot) DESC \").show()\n"
   ]
  },
  {
   "cell_type": "code",
   "execution_count": null,
   "id": "formed-enlargement",
   "metadata": {},
   "outputs": [],
   "source": []
  }
 ],
 "metadata": {
  "kernelspec": {
   "display_name": "Python 3",
   "language": "python",
   "name": "python3"
  },
  "language_info": {
   "codemirror_mode": {
    "name": "ipython",
    "version": 3
   },
   "file_extension": ".py",
   "mimetype": "text/x-python",
   "name": "python",
   "nbconvert_exporter": "python",
   "pygments_lexer": "ipython3",
   "version": "3.8.5"
  }
 },
 "nbformat": 4,
 "nbformat_minor": 5
}
